{
 "cells": [
  {
   "cell_type": "markdown",
   "id": "26543a7e",
   "metadata": {},
   "source": [
    "# ¿Como saber si un número es par o impar?\n",
    "## Este programa te lo facilitará."
   ]
  },
  {
   "cell_type": "markdown",
   "id": "3ffa0ff1",
   "metadata": {},
   "source": [
    "Necesitas saber si un nº es par o impar, pero no sabes cómo descubrirlo.\n",
    "Con este programa no necesitarás calcular nada.\n",
    "¿Quieres saber cómo?"
   ]
  },
  {
   "cell_type": "markdown",
   "id": "fcd21c84",
   "metadata": {},
   "source": [
    "Deberás introducir el número, el cual llamaremos \"x\"."
   ]
  },
  {
   "cell_type": "code",
   "execution_count": null,
   "id": "782eab2c",
   "metadata": {},
   "outputs": [],
   "source": [
    "x=int(input(\"Dame un número: \"))"
   ]
  },
  {
   "cell_type": "markdown",
   "id": "d7018a1f",
   "metadata": {},
   "source": [
    "Con x con el valor deseado, pasaremos a hacer operaciones.\n",
    "Para ello, utilizaremos dos \"if\"."
   ]
  },
  {
   "cell_type": "markdown",
   "id": "d6a56246",
   "metadata": {},
   "source": [
    "La condición para los if será ver si un número es par o impar.\n",
    "Simplemente usaremos una fórmula matemática."
   ]
  },
  {
   "cell_type": "markdown",
   "id": "77b7fd8c",
   "metadata": {},
   "source": [
    "                             x%2==0 y x%2!=0"
   ]
  },
  {
   "cell_type": "markdown",
   "id": "3b6a1ecd",
   "metadata": {},
   "source": [
    "·En el primer caso, veremos si el resto de dividir el número entre 2 es 0. Si es así, el nº es par."
   ]
  },
  {
   "cell_type": "markdown",
   "id": "116d9875",
   "metadata": {},
   "source": [
    "·En el segundo caso, si al dividir el nº entre 2 nos da diferente de 0, sabremos que es un número impar."
   ]
  },
  {
   "cell_type": "code",
   "execution_count": null,
   "id": "294a6b4c",
   "metadata": {},
   "outputs": [],
   "source": [
    "if x%2==0:\n",
    "    print(\"El número {0} es par.\".format(x))\n",
    "if x%2!=0:\n",
    "    print(\"El número {0} es impar.\".format(x))"
   ]
  },
  {
   "cell_type": "markdown",
   "id": "17b37474",
   "metadata": {},
   "source": [
    "Como se puede observar, el programa es bastante simple, pero resulta muy útil y sencillo de usar."
   ]
  }
 ],
 "metadata": {
  "kernelspec": {
   "display_name": "Python 3 (ipykernel)",
   "language": "python",
   "name": "python3"
  },
  "language_info": {
   "codemirror_mode": {
    "name": "ipython",
    "version": 3
   },
   "file_extension": ".py",
   "mimetype": "text/x-python",
   "name": "python",
   "nbconvert_exporter": "python",
   "pygments_lexer": "ipython3",
   "version": "3.8.12"
  }
 },
 "nbformat": 4,
 "nbformat_minor": 5
}
